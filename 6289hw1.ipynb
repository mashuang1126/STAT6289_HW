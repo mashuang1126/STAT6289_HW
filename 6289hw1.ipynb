{
 "cells": [
  {
   "cell_type": "markdown",
   "metadata": {
    "id": "XdpAgXU-uvnG"
   },
   "source": [
    "# STATS 6289 Statistical Deep Learning\n",
    "# PyTorch\n",
    "## Shuang Ma\n",
    "## 09/28/2020\n",
    "# Python 3\n",
    "\n",
    "### Python objects\n",
    "\n",
    "#### List"
   ]
  },
  {
   "cell_type": "code",
   "execution_count": null,
   "metadata": {
    "id": "HKqSaHYluvnI",
    "outputId": "5e571029-fad0-46ec-e89f-bb14fb0bde8c"
   },
   "outputs": [
    {
     "data": {
      "text/plain": [
       "[1, 2, 3]"
      ]
     },
     "execution_count": 1,
     "metadata": {
      "tags": []
     },
     "output_type": "execute_result"
    }
   ],
   "source": [
    "[1,2,3]"
   ]
  },
  {
   "cell_type": "markdown",
   "metadata": {
    "id": "sj9Q-Pe1uvnM"
   },
   "source": [
    "####  Tuple"
   ]
  },
  {
   "cell_type": "code",
   "execution_count": null,
   "metadata": {
    "id": "ZI20UueIuvnN",
    "outputId": "10d02964-2e57-4927-fed2-5016fecff64e"
   },
   "outputs": [
    {
     "data": {
      "text/plain": [
       "(4, 5, 6, 7)"
      ]
     },
     "execution_count": 5,
     "metadata": {
      "tags": []
     },
     "output_type": "execute_result"
    }
   ],
   "source": [
    "(4,5,6,7)"
   ]
  },
  {
   "cell_type": "markdown",
   "metadata": {
    "id": "2Hcxv6nUuvnR"
   },
   "source": [
    "#### Sets"
   ]
  },
  {
   "cell_type": "code",
   "execution_count": null,
   "metadata": {
    "id": "i0Jbua5RuvnS",
    "outputId": "b5ed53d6-c1f6-4b40-c723-bc342d8a04f5"
   },
   "outputs": [
    {
     "data": {
      "text/plain": [
       "{1, 2, 3, 4, 5, 'a', 'g', 't'}"
      ]
     },
     "execution_count": 6,
     "metadata": {
      "tags": []
     },
     "output_type": "execute_result"
    }
   ],
   "source": [
    "{1,2,3,\"a\",\"t\",\"g\",4,5}"
   ]
  },
  {
   "cell_type": "markdown",
   "metadata": {
    "id": "i900NdRhuvnX"
   },
   "source": [
    "#### Dictionary"
   ]
  },
  {
   "cell_type": "code",
   "execution_count": null,
   "metadata": {
    "id": "zLIJkvLeuvnX",
    "outputId": "3ef0ec85-f4c3-49d2-c217-666363e59e3b"
   },
   "outputs": [
    {
     "data": {
      "text/plain": [
       "7"
      ]
     },
     "execution_count": 14,
     "metadata": {
      "tags": []
     },
     "output_type": "execute_result"
    }
   ],
   "source": [
    "a = {\"d\":12,\"j\":7,\"o\":99}\n",
    "a[\"j\"]"
   ]
  },
  {
   "cell_type": "markdown",
   "metadata": {
    "id": "dpjoZEZEuvnb"
   },
   "source": [
    "#### Loop and Index"
   ]
  },
  {
   "cell_type": "code",
   "execution_count": null,
   "metadata": {
    "id": "lwOn83-5uvnd",
    "outputId": "c8b5637b-549c-4117-a6c8-93d698c612f0"
   },
   "outputs": [
    {
     "name": "stdout",
     "output_type": "stream",
     "text": [
      "0.0\n",
      "0.2\n",
      "0.4\n",
      "0.6000000000000001\n",
      "0.8\n"
     ]
    }
   ],
   "source": [
    "import numpy as np\n",
    "for i in np.arange(0,1,0.2):\n",
    "    print(i)"
   ]
  },
  {
   "cell_type": "markdown",
   "metadata": {
    "id": "XdsMpBszuvng"
   },
   "source": [
    "# PyTorch\n",
    "[PyTorch](http://pytorch.org/) is an open source machine learning framework. \n",
    "\n",
    "PyTorch provides a few key features such as:\n",
    "\n",
    "i) A multidimensioanl **Tensor** object, similar to [numpy](https://numpy.org/) but with GPU accelleration.\n",
    "\n",
    "ii) An optimized **autograd** engine for automatically computing derivatives\n",
    "\n",
    "iii) A clean, modular API for building and deploying **deep learning models**\n",
    "\n",
    "You can find more information about PyTorch by following one of the [official tutorials](https://pytorch.org/tutorials/) or by [reading the documentation](https://pytorch.org/docs/1.1.0/)."
   ]
  },
  {
   "cell_type": "markdown",
   "metadata": {
    "id": "cy7Va_e2uvng"
   },
   "source": [
    "## Steps for using PyTorch\n",
    "\n",
    "### Import torch package & check version"
   ]
  },
  {
   "cell_type": "code",
   "execution_count": 3,
   "metadata": {
    "colab": {
     "base_uri": "https://localhost:8080/",
     "height": 34
    },
    "executionInfo": {
     "elapsed": 3084,
     "status": "ok",
     "timestamp": 1601397570236,
     "user": {
      "displayName": "Shuang Ma",
      "photoUrl": "https://lh3.googleusercontent.com/a-/AOh14GjSfvORx7n9xRmG0qLvTA1ThID_c-h1MCxB0jo_oQ=s64",
      "userId": "14507136451951563303"
     },
     "user_tz": 240
    },
    "id": "KieLtEqiuvnh",
    "outputId": "5860ed3e-b2b2-4076-d847-8f2764c9115f"
   },
   "outputs": [
    {
     "name": "stdout",
     "output_type": "stream",
     "text": [
      "1.6.0\n"
     ]
    }
   ],
   "source": [
    "import torch\n",
    "print(torch.__version__)"
   ]
  },
  {
   "cell_type": "markdown",
   "metadata": {
    "id": "rNBOV0eOuvnr"
   },
   "source": [
    "# 1. Tensor Basics\n",
    "\n",
    "### Creating and Accessing tensors\n",
    "\n",
    "A torch **tensor** is a multidimensional grid of values, all of the same type, and is indexed by a tuple of nonnegative integers. The number of dimensions is the **rank** of the tensor; the **shape** of a tensor is a tuple of integers giving the size of the array along each dimension.\n",
    "\n",
    "We can initialize torch tensor from nested Python lists. We can access or mutate elements of a PyTorch tensor using square brackets.\n",
    "\n",
    "Accessing an element from a PyTorch tensor returns a PyTorch scalar; we can convert this to a Python scalar using the .item() method:"
   ]
  },
  {
   "cell_type": "code",
   "execution_count": null,
   "metadata": {
    "id": "Bizq5t38uvnt",
    "outputId": "474348c4-5794-4e00-bef8-8fdf18aa8f1e"
   },
   "outputs": [
    {
     "name": "stdout",
     "output_type": "stream",
     "text": [
      "tensor([1, 2, 3, 4, 5, 6])\n",
      "Type tensor1: <class 'torch.Tensor'>\n",
      "Rank of tensor1: 1\n",
      "Shape of tensor1: torch.Size([6])\n",
      "\n",
      "tensor1[4]:  tensor(5)\n",
      "type(tensor1[4]):  <class 'torch.Tensor'>\n",
      "type(tensor1[4].item()):  <class 'int'>\n",
      "\n",
      "tensor1 after changing:\n",
      "tensor([99,  2,  3,  4,  5,  6])\n"
     ]
    }
   ],
   "source": [
    "# Create a rank 1 tensor from Python list\n",
    "\n",
    "tensor1 = torch.tensor([1,2,3,4,5,6])\n",
    "print(tensor1)\n",
    "print(\"Type tensor1:\",type(tensor1))\n",
    "print(\"Rank of tensor1:\",tensor1.dim())\n",
    "print(\"Shape of tensor1:\",tensor1.shape)\n",
    "\n",
    "# Access elements using square brackets\n",
    "print()\n",
    "print('tensor1[4]: ', tensor1[4])\n",
    "print('type(tensor1[4]): ', type(tensor1[4]))\n",
    "print('type(tensor1[4].item()): ', type(tensor1[4].item()))\n",
    "\n",
    "# Change elements using square brackets\n",
    "tensor1[0] = 99\n",
    "print()\n",
    "print('tensor1 after changing:')\n",
    "print(tensor1)"
   ]
  },
  {
   "cell_type": "code",
   "execution_count": null,
   "metadata": {
    "id": "dlhUbKQPuvnz",
    "outputId": "383f5269-6498-482a-b72d-9bac8440558e"
   },
   "outputs": [
    {
     "name": "stdout",
     "output_type": "stream",
     "text": [
      "Here is tensor2:\n",
      "tensor([[  1,   2,   3,   4],\n",
      "        [ 99,  88,  77,  66],\n",
      "        [123, 456, 789, 777]])\n",
      "Rank of tensor2: 2\n",
      "Shape of tensor2:  torch.Size([3, 4])\n",
      "\n",
      "tensor2[2, 1]: tensor(456)\n",
      "tensor2[2, 3]: tensor(777)\n",
      "tensor2[0, 0]: tensor(1)\n",
      "tensor2[0, 1]: tensor(2)\n",
      "\n",
      "tensor2 after changing:\n",
      "tensor([[     1,      2,      3,      4],\n",
      "        [    99, 111111,     77,     66],\n",
      "        [   123,    456,    789,    777]])\n"
     ]
    }
   ],
   "source": [
    "# Create a two-dimensional tensor\n",
    "tensor2 = torch.tensor([[1, 2, 3, 4], [99, 88, 77, 66], [123,456,789,777]])\n",
    "print('Here is tensor2:')\n",
    "print(tensor2)\n",
    "print('Rank of tensor2:', tensor2.dim())\n",
    "print('Shape of tensor2: ', tensor2.shape)\n",
    "\n",
    "# Access elements from a multidimensional tensor\n",
    "print()\n",
    "print('tensor2[2, 1]:', tensor2[2, 1])\n",
    "print('tensor2[2, 3]:', tensor2[2, 3])\n",
    "print('tensor2[0, 0]:', tensor2[0, 0])\n",
    "print('tensor2[0, 1]:', tensor2[0, 1])\n",
    "\n",
    "# Change elements of a multidimensional tensor\n",
    "tensor2[1, 1] = 111111\n",
    "print() \n",
    "print('tensor2 after changing:')\n",
    "print(tensor2)"
   ]
  },
  {
   "cell_type": "markdown",
   "metadata": {
    "id": "lg_oaZzguvn2"
   },
   "source": [
    "### Tensor Constructors\n",
    "\n",
    "PyTorch provides many convenience methods for constructing tensors; this avoids the need to use Python lists. For example:\n",
    "\n",
    "- torch.zeros: Creates a tensor of all zeros\n",
    "- torch.ones: Creates a tensor of all ones\n",
    "- torch.rand: Creates a tensor with uniform random numbers\n",
    "\n",
    "You can find a full list of tensor creation operations in the [documentation](https://pytorch.org/docs/1.1.0/torch.html#creation-ops)."
   ]
  },
  {
   "cell_type": "code",
   "execution_count": null,
   "metadata": {
    "id": "VJQFCFy5uvn3",
    "outputId": "ad92c32a-b51d-443c-a562-770cf7dc11b9"
   },
   "outputs": [
    {
     "name": "stdout",
     "output_type": "stream",
     "text": [
      "tensor of zeros:\n",
      "tensor([[0., 0., 0., 0.],\n",
      "        [0., 0., 0., 0.]])\n",
      "\n",
      "tensor of ones:\n",
      "tensor([[1., 1., 1.],\n",
      "        [1., 1., 1.]])\n",
      "\n",
      "identity matrix:\n",
      "tensor([[1., 0.],\n",
      "        [0., 1.]])\n",
      "\n",
      "random tensor:\n",
      "tensor([[0.5166, 0.4409, 0.1245, 0.3064],\n",
      "        [0.9174, 0.5713, 0.5086, 0.5237]])\n"
     ]
    }
   ],
   "source": [
    "# Create a tensor of all zeros\n",
    "zero = torch.zeros(2, 4)\n",
    "print('tensor of zeros:')\n",
    "print(zero)\n",
    "\n",
    "# Create a tensor of all ones\n",
    "one = torch.ones(2, 3)\n",
    "print('\\ntensor of ones:')\n",
    "print(one)\n",
    "\n",
    "# Create a 2x2 identity matrix\n",
    "eyes = torch.eye(2)\n",
    "print('\\nidentity matrix:')\n",
    "print(eyes)\n",
    "\n",
    "# Tensor of random values\n",
    "rand = torch.rand(2, 4)\n",
    "print('\\nrandom tensor:')\n",
    "print(rand)"
   ]
  },
  {
   "cell_type": "markdown",
   "metadata": {
    "id": "4_akThRAuvn5"
   },
   "source": [
    "### Data Types\n",
    "\n",
    "In the examples above, you may have noticed that some of our tensors contained floating-point values, while others contained integer values.\n",
    "\n",
    "PyTorch provides a large set of numeric [datatypes](https://pytorch.org/docs/1.1.0/tensor_attributes.html#torch-dtype) that you can use to construct tensors. PyTorch tries to guess a datatype when you create a tensor; functions that construct tensors typically have a dtype argument that you can use to explicitly specify a datatype.\n",
    "\n",
    "Each tensor has a dtype attribute that you can use to check its data type:"
   ]
  },
  {
   "cell_type": "code",
   "execution_count": null,
   "metadata": {
    "id": "1I6kn6zbuvn6",
    "outputId": "bdca2d80-5a68-4215-8812-dfa79edf7eee"
   },
   "outputs": [
    {
     "name": "stdout",
     "output_type": "stream",
     "text": [
      "dtype when torch chooses for us:\n",
      "List of integers: torch.int64\n",
      "List of floats: torch.float32\n",
      "Mixed list: torch.float32\n",
      "\n",
      "dtype when we force a datatype:\n",
      "32-bit float:  torch.float32\n",
      "32-bit integer:  torch.int32\n",
      "64-bit integer:  torch.int64\n"
     ]
    }
   ],
   "source": [
    "# Let torch choose the datatype\n",
    "x0 = torch.tensor([1, 2])   # List of integers\n",
    "x1 = torch.tensor([1., 2.]) # List of floats\n",
    "x2 = torch.tensor([1., 2])  # Mixed list\n",
    "print('dtype when torch chooses for us:')\n",
    "print('List of integers:', x0.dtype)\n",
    "print('List of floats:', x1.dtype)\n",
    "print('Mixed list:', x2.dtype)\n",
    "\n",
    "# Force a particular datatype\n",
    "y0 = torch.tensor([1, 2], dtype=torch.float32)  # 32-bit float\n",
    "y1 = torch.tensor([1, 2], dtype=torch.int32)    # 32-bit (signed) integer\n",
    "y2 = torch.tensor([1, 2], dtype=torch.int64)    # 64-bit (signed) integer\n",
    "print('\\ndtype when we force a datatype:')\n",
    "print('32-bit float: ', y0.dtype)\n",
    "print('32-bit integer: ', y1.dtype)\n",
    "print('64-bit integer: ', y2.dtype)"
   ]
  },
  {
   "cell_type": "markdown",
   "metadata": {
    "id": "l-VvEMQnuvn_"
   },
   "source": [
    "We can cast a tensor to another datatype using the <u>.to() </u> method; there are also convenience methods like <u>.float() </u> and <u>.long() </u> that cast to particular datatypes:"
   ]
  },
  {
   "cell_type": "code",
   "execution_count": null,
   "metadata": {
    "id": "FsY78YgzuvoA",
    "outputId": "018e7e39-d8b9-437e-930e-9d8d24fc3961"
   },
   "outputs": [
    {
     "name": "stdout",
     "output_type": "stream",
     "text": [
      "x0: torch.int64\n",
      "x1: torch.float32\n",
      "x2: torch.float64\n",
      "x3: torch.float32\n",
      "x4: torch.float64\n"
     ]
    }
   ],
   "source": [
    "x0 = torch.eye(3, dtype=torch.int64)\n",
    "x1 = x0.float()  # Cast to 32-bit float\n",
    "x2 = x0.double() # Cast to 64-bit float\n",
    "x3 = x0.to(torch.float32) # Alternate way to cast to 32-bit float\n",
    "x4 = x0.to(torch.float64) # Alternate way to cast to 64-bit float\n",
    "print('x0:', x0.dtype)\n",
    "print('x1:', x1.dtype)\n",
    "print('x2:', x2.dtype)\n",
    "print('x3:', x3.dtype)\n",
    "print('x4:', x4.dtype)"
   ]
  },
  {
   "cell_type": "markdown",
   "metadata": {
    "id": "l1sSV-CjuvoE"
   },
   "source": [
    "PyTorch provides several ways to create a tensor with the same datatype as another tensor:\n",
    "\n",
    "- PyTorch provides tensor constructors such as **torch.new_zeros()** that create new tensors with the same shape and type as a given tensor\n",
    "- Tensor objects have instance methods such as **.new_zeros()** that create tensors the same type but possibly different shapes\n",
    "- The tensor instance method **.to()** can take a tensor as an argument, in which case it casts to the datatype of the argument."
   ]
  },
  {
   "cell_type": "code",
   "execution_count": null,
   "metadata": {
    "id": "LTCcpgnguvoF",
    "outputId": "11fdbe3b-2f2e-4027-d60d-c08db74dd3af"
   },
   "outputs": [
    {
     "name": "stdout",
     "output_type": "stream",
     "text": [
      "x0 shape is torch.Size([3, 3]), dtype is torch.float64\n",
      "x1 shape is torch.Size([3, 3]), dtype is torch.float64\n",
      "x2 shape is torch.Size([2, 3]), dtype is torch.float64\n",
      "x3 shape is torch.Size([4, 5]), dtype is torch.float64\n"
     ]
    }
   ],
   "source": [
    "x0 = torch.eye(3, dtype=torch.float64)  # Shape (3, 3), dtype torch.float64\n",
    "x1 = torch.zeros_like(x0)               # Shape (3, 3), dtype torch.float64\n",
    "x2 = x0.new_zeros(2, 3)                 # Shape (2, 3), dtype torch.float64\n",
    "x3 = torch.ones(4, 5).to(x0)            # Shape (4, 5), dtype torch.float64)\n",
    "print('x0 shape is %r, dtype is %r' % (x0.shape, x0.dtype))\n",
    "print('x1 shape is %r, dtype is %r' % (x1.shape, x1.dtype))\n",
    "print('x2 shape is %r, dtype is %r' % (x2.shape, x2.dtype))\n",
    "print('x3 shape is %r, dtype is %r' % (x3.shape, x3.dtype))"
   ]
  },
  {
   "cell_type": "markdown",
   "metadata": {
    "id": "Yd7oY05quvoI"
   },
   "source": [
    "Even though PyTorch provides a large number of numeric datatypes, the most commonly used datatypes are:\n",
    "\n",
    "- torch.float32: Standard floating-point type; used to store learnable parameters, network activations, etc. Nearly all arithmetic is done using this type.\n",
    "- torch.int64: Typically used to store indices\n",
    "- torch.uint8: Typically used to store boolean values, where 0 is false and 1 is true."
   ]
  },
  {
   "cell_type": "markdown",
   "metadata": {
    "id": "k-hUnx0RuvoI"
   },
   "source": [
    "# 2. Tensor Indexing\n",
    "\n",
    "We have already seen how to get and set individual elements of PyTorch tensors. PyTorch also provides many other ways of indexing into tensors. Getting comfortable with these different options makes it easy to modify different parts of tensors with ease.\n",
    "\n",
    "## Slice indexing\n",
    "\n",
    "Similar to Python lists and numpy arrays, PyTorch tensors can be ***sliced*** using the syntax start:stop or start:stop:step. The stop index is always non-inclusive: it is the first element not to be included in the slice.\n",
    "\n",
    "Start and stop indices can be negative, in which case they count backward from the end of the tensor."
   ]
  },
  {
   "cell_type": "code",
   "execution_count": null,
   "metadata": {
    "id": "N6NH6a3GuvoJ",
    "outputId": "67ab303f-4a69-437f-fcd8-e64612edc83c"
   },
   "outputs": [
    {
     "name": "stdout",
     "output_type": "stream",
     "text": [
      "0 tensor([1, 2, 3, 4, 5, 6, 7, 8])\n",
      "1 tensor([2, 3])\n",
      "2 tensor([5, 6, 7, 8])\n",
      "3 tensor([1, 2, 3])\n",
      "4 tensor([1, 2, 3, 4, 5, 6, 7, 8])\n",
      "5 tensor([2, 4])\n",
      "6 tensor([1, 2, 3, 4, 5, 6])\n",
      "7 tensor([5, 7])\n"
     ]
    }
   ],
   "source": [
    "tensor_sliced = torch.tensor([1, 2, 3, 4, 5, 6, 7, 8])\n",
    "print(0, tensor_sliced)        # (0) Original tensor\n",
    "print(1, tensor_sliced[1:3])   # (1) Elements between index 1 and 3\n",
    "print(2, tensor_sliced[4:])    # (2) Elements after index 4\n",
    "print(3, tensor_sliced[:3])    # (3) Elements before index 3\n",
    "print(4, tensor_sliced[:])     # (4) All elements\n",
    "print(5, tensor_sliced[1:4:2]) # (5) Every second element between indices 1 and 4\n",
    "print(6, tensor_sliced[:-2])   # (6) All but the last 2 elements\n",
    "print(7, tensor_sliced[-4::2]) # (7) Every second element, starting from the fourth-last"
   ]
  },
  {
   "cell_type": "markdown",
   "metadata": {
    "id": "mTqb5IKfuvoN"
   },
   "source": [
    "\n",
    "For multidimensional tensors, you can provide a slice or integer for each dimension of the tensor in order to extract different types of subtensors:"
   ]
  },
  {
   "cell_type": "code",
   "execution_count": null,
   "metadata": {
    "id": "CG2Cb7bluvoN",
    "outputId": "a4bda2f5-45bc-4b9f-8b74-6bf2a657d795"
   },
   "outputs": [
    {
     "name": "stdout",
     "output_type": "stream",
     "text": [
      "Original tensor:\n",
      "tensor([[1, 2, 3],\n",
      "        [4, 5, 6],\n",
      "        [7, 8, 9]])\n",
      "shape:  torch.Size([3, 3])\n",
      "\n",
      "Single row:\n",
      "tensor([1, 2, 3])\n",
      "tensor([1, 2, 3])\n",
      "shape:  torch.Size([3])\n",
      "\n",
      "Single column:\n",
      "tensor([2, 5, 8])\n",
      "shape:  torch.Size([3])\n",
      "\n",
      "First two rows, last two columns:\n",
      "tensor([[2, 3],\n",
      "        [5, 6]])\n",
      "shape:  torch.Size([2, 2])\n",
      "\n",
      "Every other row, middle columns:\n",
      "tensor([[2],\n",
      "        [8]])\n",
      "shape:  torch.Size([2, 1])\n"
     ]
    }
   ],
   "source": [
    "# Create the following rank 2 tensor with shape (2, 3)\n",
    "# [[ 1  2  3]\n",
    "#  [ 4  5  6]\n",
    "#  [ 7 8 9]\n",
    "tensor_r2 = torch.tensor([[1,2,3], [4,5,6], [7,8,9]])\n",
    "print('Original tensor:')\n",
    "print(tensor_r2)\n",
    "print('shape: ', tensor_r2.shape)\n",
    "\n",
    "# Get first row, and all columns. \n",
    "print('\\nSingle row:')\n",
    "print(tensor_r2[0, :])\n",
    "print(tensor_r2[0])  # Gives the same result; we can omit : for trailing dimensions\n",
    "print('shape: ', tensor_r2[1].shape)\n",
    "\n",
    "# Get second column with all row. \n",
    "print('\\nSingle column:')\n",
    "print(tensor_r2[:, 1])\n",
    "print('shape: ', tensor_r2[:, 1].shape)\n",
    "\n",
    "# Get the first two rows and the last two columns\n",
    "print('\\nFirst two rows, last two columns:')\n",
    "print(tensor_r2[:2, -2:])\n",
    "print('shape: ', tensor_r2[:2, -2:].shape)\n",
    "\n",
    "# Get every other row, and columns at index 1 and 2\n",
    "print('\\nEvery other row, middle columns:')\n",
    "print(tensor_r2[::2, 1:2])\n",
    "print('shape: ', tensor_r2[::2, 1:2].shape)"
   ]
  },
  {
   "cell_type": "markdown",
   "metadata": {
    "id": "PkvzAwBEuvoQ"
   },
   "source": [
    "There are two common ways to access a single row or column of a tensor: using an integer will reduce the rank by one, and using a length-one slice will keep the same rank."
   ]
  },
  {
   "cell_type": "code",
   "execution_count": null,
   "metadata": {
    "id": "RWLNEU50uvoS",
    "outputId": "d4ac842c-5d83-4c70-a17c-aeb033caeeba"
   },
   "outputs": [
    {
     "name": "stdout",
     "output_type": "stream",
     "text": [
      "Original tensor\n",
      "tensor([[ 1,  2,  3,  4],\n",
      "        [ 5,  6,  7,  8],\n",
      "        [ 9, 10, 11, 12]])\n",
      "\n",
      "Two ways of accessing a single row:\n",
      "tensor([5, 6, 7, 8]) torch.Size([4])\n",
      "tensor([[5, 6, 7, 8]]) torch.Size([1, 4])\n",
      "\n",
      "Two ways of accessing a single column:\n",
      "tensor([ 2,  6, 10]) torch.Size([3])\n",
      "tensor([[ 2],\n",
      "        [ 6],\n",
      "        [10]]) torch.Size([3, 1])\n"
     ]
    }
   ],
   "source": [
    "# Create the following rank 2 tensor with shape (3, 4)\n",
    "a = torch.tensor([[1,2,3,4], [5,6,7,8], [9,10,11,12]])\n",
    "print('Original tensor')\n",
    "print(a)\n",
    "\n",
    "row_r1 = a[1, :]    # Rank 1 view of the second row of a  \n",
    "row_r2 = a[1:2, :]  # Rank 2 view of the second row of a\n",
    "print('\\nTwo ways of accessing a single row:')\n",
    "print(row_r1, row_r1.shape)\n",
    "print(row_r2, row_r2.shape)\n",
    "\n",
    "# We can make the same distinction when accessing columns::\n",
    "col_r1 = a[:, 1]\n",
    "col_r2 = a[:, 1:2]\n",
    "print('\\nTwo ways of accessing a single column:')\n",
    "print(col_r1, col_r1.shape)\n",
    "print(col_r2, col_r2.shape)"
   ]
  },
  {
   "cell_type": "markdown",
   "metadata": {
    "id": "6IO8gOlNuvoY"
   },
   "source": [
    "Slicing a tensor returns a ***view*** into the same data, so modifying it will also modify the original tensor. To avoid this, you can use the clone() method to make a copy of a tensor."
   ]
  },
  {
   "cell_type": "code",
   "execution_count": null,
   "metadata": {
    "id": "N6FWFC5ruvoZ",
    "outputId": "81c5b213-eb4e-449e-f2ca-ab981e5d0e07"
   },
   "outputs": [
    {
     "name": "stdout",
     "output_type": "stream",
     "text": [
      "Before mutating:\n",
      "tensor([[1, 2, 3],\n",
      "        [4, 5, 6],\n",
      "        [7, 8, 9]])\n",
      "tensor([2, 3])\n",
      "tensor([2, 3])\n",
      "\n",
      "After mutating:\n",
      "tensor([[ 1, 20, 30],\n",
      "        [ 4,  5,  6],\n",
      "        [ 7,  8,  9]])\n",
      "tensor([20, 30])\n",
      "tensor([40,  3])\n",
      "False\n"
     ]
    }
   ],
   "source": [
    "# Create a tensor, a slice, and a clone of a slice\n",
    "a = torch.tensor([[1, 2, 3], [4,5,6], [7,8,9]])\n",
    "b = a[0, 1:]\n",
    "c = a[0, 1:].clone()\n",
    "print('Before mutating:')\n",
    "print(a)\n",
    "print(b)\n",
    "print(c)\n",
    "\n",
    "a[0,1] = 20  # a[0, 1] and b[0] point to the same element\n",
    "b[1] = 30     # b[1] and a[0, 2] point to the same element\n",
    "c[0] = 40     # c is a clone, so it has its own data\n",
    "print('\\nAfter mutating:')\n",
    "print(a)\n",
    "print(b)\n",
    "print(c)\n",
    "\n",
    "print(a.storage().data_ptr() == c.storage().data_ptr())"
   ]
  },
  {
   "cell_type": "markdown",
   "metadata": {
    "id": "89cO_ilguvob"
   },
   "source": [
    "So far we have used slicing to access subtensors; we can also use slicing to modify subtensors by writing assignment expressions where the left-hand side is a slice expression, and the right-hand side is a constant or a tensor of the correct shape:"
   ]
  },
  {
   "cell_type": "markdown",
   "metadata": {
    "id": "q_z_aR5wuvod"
   },
   "source": [
    "### Integer Tensor Indexing\n",
    "\n",
    "When you index into torch tensor using slicing, the resulting tensor view will always be a subarray of the original tensor. This is powerful, but can be restrictive.\n",
    "\n",
    "We can also use ***index arrays*** to index tensors; this lets us construct new tensors with a lot more flexibility than using slices.\n",
    "\n",
    "As an example, we can use index arrays to reorder the rows or columns of a tensor:"
   ]
  },
  {
   "cell_type": "code",
   "execution_count": null,
   "metadata": {
    "id": "1YcGwkj0uvod",
    "outputId": "2367a18e-5f38-4c4f-b6c7-9f81f58ad258"
   },
   "outputs": [
    {
     "name": "stdout",
     "output_type": "stream",
     "text": [
      "Original tensor:\n",
      "tensor([[ 1,  2,  3,  4],\n",
      "        [ 5,  6,  7,  8],\n",
      "        [ 9, 10, 11, 12]])\n",
      "\n",
      "Reordered rows:\n",
      "tensor([[ 1,  2,  3,  4],\n",
      "        [ 1,  2,  3,  4],\n",
      "        [ 9, 10, 11, 12],\n",
      "        [ 5,  6,  7,  8],\n",
      "        [ 5,  6,  7,  8]])\n",
      "\n",
      "Reordered columns:\n",
      "tensor([[ 4,  3,  2,  1],\n",
      "        [ 8,  7,  6,  5],\n",
      "        [12, 11, 10,  9]])\n"
     ]
    }
   ],
   "source": [
    "# Create the following rank 2 tensor with shape (3, 4)\n",
    "# [[ 1  2  3  4]\n",
    "#  [ 5  6  7  8]\n",
    "#  [ 9 10 11 12]]\n",
    "a = torch.tensor([[1, 2, 3, 4], [5, 6, 7, 8], [9, 10, 11, 12]])\n",
    "print('Original tensor:')\n",
    "print(a)\n",
    "\n",
    "# Create a new tensor of shape (5, 4) by reordering rows from a:\n",
    "# - First two rows same as the first row of a\n",
    "# - Third row is the same as the last row of a\n",
    "# - Fourth and fifth rows are the same as the second row from a\n",
    "idx = [0, 0, 2, 1, 1]  # index arrays can be Python lists of integers\n",
    "print('\\nReordered rows:')\n",
    "print(a[idx])\n",
    "\n",
    "# Create a new tensor of shape (3, 4) by reversing the columns from a\n",
    "idx = torch.tensor([3, 2, 1, 0])  # Index arrays can be int64 torch tensors\n",
    "print('\\nReordered columns:')\n",
    "print(a[:, idx])"
   ]
  },
  {
   "cell_type": "markdown",
   "metadata": {
    "id": "YMkdkkw_uvog"
   },
   "source": [
    "\n",
    "\n",
    "More generally, given index arrays idx0 and idx1 with N elements each, a[idx0, idx1] is equivalent to:\n",
    "\n",
    "torch.tensor([\n",
    "  a[idx0[0], idx1[0]],\n",
    "  a[idx0[1], idx1[1]],\n",
    "  ...,\n",
    "  a[idx0[N - 1], idx1[N - 1]]\n",
    "])\n",
    "(A similar pattern extends to tensors with more than two dimensions)\n",
    "\n",
    "We can for example use this to get or set the diagonal of a tensor:"
   ]
  },
  {
   "cell_type": "code",
   "execution_count": null,
   "metadata": {
    "id": "9ccTNI0uuvog",
    "outputId": "dcef7e50-f34e-4600-bb16-6ccb3e0f5f1f"
   },
   "outputs": [
    {
     "name": "stdout",
     "output_type": "stream",
     "text": [
      "Original tensor:\n",
      "tensor([[1, 2, 3],\n",
      "        [4, 5, 6],\n",
      "        [7, 8, 9]])\n",
      "\n",
      "Get the diagonal:\n",
      "tensor([1, 5, 9])\n",
      "\n",
      "After setting the diagonal:\n",
      "tensor([[11,  2,  3],\n",
      "        [ 4, 22,  6],\n",
      "        [ 7,  8, 33]])\n"
     ]
    }
   ],
   "source": [
    "a = torch.tensor([[1, 2, 3], [4, 5, 6], [7, 8, 9]])\n",
    "print('Original tensor:')\n",
    "print(a)\n",
    "\n",
    "idx = [0, 1, 2]\n",
    "print('\\nGet the diagonal:')\n",
    "print(a[idx, idx])\n",
    "\n",
    "# Modify the diagonal\n",
    "a[idx, idx] = torch.tensor([11, 22, 33])\n",
    "print('\\nAfter setting the diagonal:')\n",
    "print(a)"
   ]
  },
  {
   "cell_type": "markdown",
   "metadata": {
    "id": "Fj2aEV_zuvok"
   },
   "source": [
    "One useful trick with integer array indexing is selecting or mutating one element from each row or column of a matrix:"
   ]
  },
  {
   "cell_type": "code",
   "execution_count": null,
   "metadata": {
    "id": "hyYx33fmuvol",
    "outputId": "1fbf0dfe-f350-4377-ca69-02c77c5b1696"
   },
   "outputs": [
    {
     "name": "stdout",
     "output_type": "stream",
     "text": [
      "Original tensor:\n",
      "tensor([[ 1,  2,  3],\n",
      "        [ 4,  5,  6],\n",
      "        [ 7,  8,  9],\n",
      "        [10, 11, 12]])\n",
      "\n",
      "Select one element from each row:\n",
      "tensor([ 2,  6,  8, 10])\n",
      "\n",
      "After modifying one element from each row:\n",
      "tensor([[ 1,  0,  3],\n",
      "        [ 4,  5,  0],\n",
      "        [ 7,  0,  9],\n",
      "        [ 0, 11, 12]])\n"
     ]
    }
   ],
   "source": [
    "# Create a new tensor from which we will select elements\n",
    "a = torch.tensor([[1, 2, 3], [4, 5, 6], [7, 8, 9], [10, 11, 12]])\n",
    "print('Original tensor:')\n",
    "print(a)\n",
    "\n",
    "# Take on element from each row of a:\n",
    "# from row 0, take element 1;\n",
    "# from row 1, take element 2;\n",
    "# from row 2, take element 1;\n",
    "# from row 3, take element 0\n",
    "idx0 = torch.arange(a.shape[0])  # Quick way to build [0, 1, 2, 3]\n",
    "idx1 = torch.tensor([1, 2, 1, 0])\n",
    "print('\\nSelect one element from each row:')\n",
    "print(a[idx0, idx1])\n",
    "\n",
    "# Now set each of those elements to zero\n",
    "a[idx0, idx1] = 0\n",
    "print('\\nAfter modifying one element from each row:')\n",
    "print(a)"
   ]
  },
  {
   "cell_type": "markdown",
   "metadata": {
    "id": "lIZyrqFguvoo"
   },
   "source": [
    "## Boolean Tensor Indexing\n",
    "\n",
    "\n",
    "Boolean tensor indexing lets you pick out arbitrary elements of a tensor according to a boolean mask. Frequently this type of indexing is used to select or modify the elements of a tensor that satisfy some condition.\n",
    "\n",
    "In PyTorch, we use tensors of dtype torch.uint8 to hold boolean masks; 0 means false and 1 means true."
   ]
  },
  {
   "cell_type": "code",
   "execution_count": null,
   "metadata": {
    "id": "HlggSjABuvop",
    "outputId": "a1eb76ee-8668-4b29-d001-f876c1f0a462"
   },
   "outputs": [
    {
     "name": "stdout",
     "output_type": "stream",
     "text": [
      "Original tensor:\n",
      "tensor([[1, 2, 3],\n",
      "        [4, 5, 6],\n",
      "        [7, 8, 9]])\n",
      "\n",
      "Mask tensor:\n",
      "tensor([[False, False, False],\n",
      "        [False,  True,  True],\n",
      "        [ True,  True,  True]])\n",
      "\n",
      "Selecting elements with the mask:\n",
      "tensor([5, 6, 7, 8, 9])\n",
      "\n",
      "After modifying with a mask:\n",
      "tensor([[0, 0, 0],\n",
      "        [0, 0, 0],\n",
      "        [7, 8, 9]])\n"
     ]
    }
   ],
   "source": [
    "tensor_boolean = torch.tensor([[1,2,3], [4,5,6], [7,8,9]])\n",
    "print('Original tensor:')\n",
    "print(tensor_boolean)\n",
    "\n",
    "# Find the elements of a that are bigger than 4. The mask has the same shape as\n",
    "# a, where each element of mask tells whether the corresponding element of a\n",
    "# is greater than three.\n",
    "mask = (tensor_boolean > 4)\n",
    "print('\\nMask tensor:')\n",
    "print(mask)\n",
    "\n",
    "# We can use the mask to construct a rank-1 tensor containing the elements of a\n",
    "# that are selected by the mask\n",
    "print('\\nSelecting elements with the mask:')\n",
    "print(tensor_boolean[mask])\n",
    "\n",
    "# We can also use boolean masks to modify tensors; for example this sets all\n",
    "# elements <= 6 to zero:\n",
    "tensor_boolean[tensor_boolean <= 6] = 0\n",
    "print('\\nAfter modifying with a mask:')\n",
    "print(tensor_boolean)"
   ]
  },
  {
   "cell_type": "markdown",
   "metadata": {
    "id": "BDuo3boDuvos"
   },
   "source": [
    "# 3. Reshaping Operations\n",
    "\n",
    "PyTorch provides many ways to manipulate the shapes of tensors. The simplest example is ***.view()***: This returns a new tensor with the same number of elements as its input, but with a different shape.\n",
    "\n",
    "We can use ***.view()*** to flatten matrices into vectors, and to convert rank-1 vectors into rank-2 row or column matrices:"
   ]
  },
  {
   "cell_type": "code",
   "execution_count": null,
   "metadata": {
    "id": "h3DZqLOSuvot",
    "outputId": "74971ea2-db2a-49b7-f2e1-83b00b40ab1b"
   },
   "outputs": [
    {
     "name": "stdout",
     "output_type": "stream",
     "text": [
      "Original tensor:\n",
      "tensor([[ 1,  2,  3],\n",
      "        [ 4,  5,  6],\n",
      "        [ 7,  8,  9],\n",
      "        [10, 11, 12]])\n",
      "shape: torch.Size([4, 3])\n",
      "\n",
      "Flattened tensor:\n",
      "tensor([ 1,  2,  3,  4,  5,  6,  7,  8,  9, 10, 11, 12])\n",
      "shape: torch.Size([12])\n",
      "\n",
      "Row vector:\n",
      "tensor([[ 1,  2,  3,  4,  5,  6,  7,  8,  9, 10, 11, 12]])\n",
      "shape: torch.Size([1, 12])\n",
      "\n",
      "Column vector:\n",
      "tensor([[ 1],\n",
      "        [ 2],\n",
      "        [ 3],\n",
      "        [ 4],\n",
      "        [ 5],\n",
      "        [ 6],\n",
      "        [ 7],\n",
      "        [ 8],\n",
      "        [ 9],\n",
      "        [10],\n",
      "        [11],\n",
      "        [12]])\n",
      "shape: torch.Size([12, 1])\n",
      "\n",
      "Rank 3 tensor:\n",
      "tensor([[[ 1,  2],\n",
      "         [ 3,  4]],\n",
      "\n",
      "        [[ 5,  6],\n",
      "         [ 7,  8]],\n",
      "\n",
      "        [[ 9, 10],\n",
      "         [11, 12]]])\n",
      "shape: torch.Size([3, 2, 2])\n"
     ]
    }
   ],
   "source": [
    "x0 = torch.tensor([[1,2,3],[4,5,6],[7,8,9],[10,11,12]])\n",
    "print('Original tensor:')\n",
    "print(x0)\n",
    "print('shape:', x0.shape)\n",
    "\n",
    "# Flatten x0 into a rank 1 vector of shape (12,)\n",
    "x1 = x0.view(12)\n",
    "print('\\nFlattened tensor:')\n",
    "print(x1)\n",
    "print('shape:', x1.shape)\n",
    "\n",
    "# Convert x1 to a rank 2 \"row vector\" of shape (1, 12)\n",
    "x2 = x1.view(1, 12)\n",
    "print('\\nRow vector:')\n",
    "print(x2)\n",
    "print('shape:', x2.shape)\n",
    "\n",
    "# Convert x1 to a rank 2 \"column vector\" of shape (12, 1)\n",
    "x3 = x1.view(12, 1)\n",
    "print('\\nColumn vector:')\n",
    "print(x3)\n",
    "print('shape:', x3.shape)\n",
    "\n",
    "# Convert x1 to a rank 3 tensor of shape (3, 2, 2):\n",
    "x4 = x1.view(3, 2, 2)\n",
    "print('\\nRank 3 tensor:')\n",
    "print(x4)\n",
    "print('shape:', x4.shape)"
   ]
  },
  {
   "cell_type": "markdown",
   "metadata": {
    "id": "aILQiC8Kuvo2"
   },
   "source": [
    "As a convenience, calls to ***.view()*** may include a single -1 argument; this puts enough elements on that dimension so that the output has the same shape as the input. This makes it easy to write some reshape operations in a way that is agnostic to the shape of the tensor:"
   ]
  },
  {
   "cell_type": "code",
   "execution_count": null,
   "metadata": {
    "id": "CRFjb305uvo2",
    "outputId": "ba375dc5-dd9c-4762-831d-5ccd878473cb"
   },
   "outputs": [
    {
     "name": "stdout",
     "output_type": "stream",
     "text": [
      "x0:\n",
      "tensor([[ 1,  2,  3],\n",
      "        [ 4,  5,  6],\n",
      "        [ 7,  8,  9],\n",
      "        [10, 11, 12]])\n",
      "x1:\n",
      "tensor([ 1,  2,  3,  4,  5,  6,  7,  8,  9, 10, 11, 12])\n",
      "x2:\n",
      "tensor([[ 1,  2,  3],\n",
      "        [ 4,  5,  6],\n",
      "        [ 7,  8,  9],\n",
      "        [10, 11, 12]])\n"
     ]
    }
   ],
   "source": [
    "\n",
    "# We can reuse these functions for tensors of different shapes\n",
    "x0 = torch.tensor([[1,2,3],[4,5,6],[7,8,9],[10,11,12]])\n",
    "x1 = x0.view(-1, )\n",
    "x2 = x0.view(-1, 3)\n",
    "\n",
    "print('x0:')\n",
    "print(x0)\n",
    "\n",
    "print('x1:')\n",
    "print(x1)\n",
    "\n",
    "print('x2:')\n",
    "print(x2)"
   ]
  },
  {
   "cell_type": "markdown",
   "metadata": {
    "id": "FjixINljuvo5"
   },
   "source": [
    "As its name implies, a tensor returned by ***.view()*** shares the same data as the input, so changes to one will affect the other and vice-versa:"
   ]
  },
  {
   "cell_type": "code",
   "execution_count": null,
   "metadata": {
    "id": "6xDoJwo4uvo6",
    "outputId": "42cad9f6-094e-4ed1-aa2c-78a365374208"
   },
   "outputs": [
    {
     "name": "stdout",
     "output_type": "stream",
     "text": [
      "x before modifying:\n",
      "tensor([[ 1,  2,  3],\n",
      "        [ 4,  5,  6],\n",
      "        [ 7,  8,  9],\n",
      "        [10, 11, 12]])\n",
      "x_flat before modifying:\n",
      "tensor([ 1,  2,  3,  4,  5,  6,  7,  8,  9, 10, 11, 12])\n",
      "\n",
      "x after modifying:\n",
      "tensor([[70, 80,  3],\n",
      "        [ 4,  5,  6],\n",
      "        [ 7,  8,  9],\n",
      "        [10, 11, 12]])\n",
      "x_flat after modifying:\n",
      "tensor([70, 80,  3,  4,  5,  6,  7,  8,  9, 10, 11, 12])\n"
     ]
    }
   ],
   "source": [
    "x = torch.tensor([[1,2,3],[4,5,6],[7,8,9],[10,11,12]])\n",
    "x_flat = x.view(-1)\n",
    "print('x before modifying:')\n",
    "print(x)\n",
    "print('x_flat before modifying:')\n",
    "print(x_flat)\n",
    "\n",
    "x[0, 0] = 70   # x[0, 0] and x_flat[0] point to the same data\n",
    "x_flat[1] = 80 # x_flat[1] and x[0, 1] point to the same data\n",
    "\n",
    "print('\\nx after modifying:')\n",
    "print(x)\n",
    "print('x_flat after modifying:')\n",
    "print(x_flat)"
   ]
  },
  {
   "cell_type": "markdown",
   "metadata": {
    "id": "hC2BE9Vfuvo9"
   },
   "source": [
    "## Swapping Axes\n",
    "\n",
    "\n",
    "Another common reshape operation you might want to perform is transposing a matrix. You might be surprised if you try to transpose a matrix with ***.view()***: The view() function takes elements in row-major order, so you **cannot** transpose matrices with .view().\n",
    "\n",
    "In general, you should only use .view() to add new dimensions to a tensor, or to collapse adjacent dimensions of a tensor.\n",
    "\n",
    "For other types of reshape operations, you usually need to use a function that can swap axes of a tensor. The simplest such function is .t(), specificially for transposing matrices. It is available both as a [function in the torch module](https://pytorch.org/docs/1.1.0/torch.html#torch.t), and as a [tensor instance method](https://pytorch.org/docs/1.1.0/tensors.html#torch.Tensor.t):"
   ]
  },
  {
   "cell_type": "code",
   "execution_count": null,
   "metadata": {
    "id": "nCQFM8X5uvo9",
    "outputId": "3a065c72-e2bd-4ec2-e1f4-6ff32922f81e"
   },
   "outputs": [
    {
     "name": "stdout",
     "output_type": "stream",
     "text": [
      "Original matrix:\n",
      "tensor([[70, 80,  3],\n",
      "        [ 4,  5,  6],\n",
      "        [ 7,  8,  9],\n",
      "        [10, 11, 12]])\n",
      "\n",
      "Transposing with view DOES NOT WORK!\n",
      "tensor([[70, 80,  3],\n",
      "        [ 4,  5,  6],\n",
      "        [ 7,  8,  9],\n",
      "        [10, 11, 12]])\n",
      "\n",
      "Transposed matrix:\n",
      "tensor([[70,  4,  7, 10],\n",
      "        [80,  5,  8, 11],\n",
      "        [ 3,  6,  9, 12]])\n",
      "tensor([[70,  4,  7, 10],\n",
      "        [80,  5,  8, 11],\n",
      "        [ 3,  6,  9, 12]])\n"
     ]
    }
   ],
   "source": [
    "print('Original matrix:')\n",
    "print(x)\n",
    "print('\\nTransposing with view DOES NOT WORK!')\n",
    "print(x.view(4, 3))\n",
    "print('\\nTransposed matrix:')\n",
    "print(torch.t(x))\n",
    "print(x.t())"
   ]
  },
  {
   "cell_type": "markdown",
   "metadata": {
    "id": "PUEOIYN3uvpA"
   },
   "source": [
    "\n",
    "For tensors with more than two dimensions, we can use the function ***torch.transpose*** to swap arbitrary dimensions, or the ***.permute*** method to arbitrarily permute dimensions:"
   ]
  },
  {
   "cell_type": "code",
   "execution_count": null,
   "metadata": {
    "id": "o3HxtfnRuvpA",
    "outputId": "66573a6d-0eb3-47a8-a152-ab911ffb3c2e"
   },
   "outputs": [
    {
     "name": "stdout",
     "output_type": "stream",
     "text": [
      "Original tensor:\n",
      "tensor([[[ 1,  2,  3,  4],\n",
      "         [ 5,  6,  7,  8],\n",
      "         [ 9, 10, 11, 12]],\n",
      "\n",
      "        [[13, 14, 15, 16],\n",
      "         [17, 18, 19, 20],\n",
      "         [21, 22, 23, 24]]])\n",
      "shape: torch.Size([2, 3, 4])\n",
      "\n",
      "Swap axes 1 and 2:\n",
      "tensor([[[ 1,  5,  9],\n",
      "         [ 2,  6, 10],\n",
      "         [ 3,  7, 11],\n",
      "         [ 4,  8, 12]],\n",
      "\n",
      "        [[13, 17, 21],\n",
      "         [14, 18, 22],\n",
      "         [15, 19, 23],\n",
      "         [16, 20, 24]]])\n",
      "torch.Size([2, 4, 3])\n",
      "\n",
      "Permute axes\n",
      "tensor([[[ 1, 13],\n",
      "         [ 2, 14],\n",
      "         [ 3, 15],\n",
      "         [ 4, 16]],\n",
      "\n",
      "        [[ 5, 17],\n",
      "         [ 6, 18],\n",
      "         [ 7, 19],\n",
      "         [ 8, 20]],\n",
      "\n",
      "        [[ 9, 21],\n",
      "         [10, 22],\n",
      "         [11, 23],\n",
      "         [12, 24]]])\n",
      "shape: torch.Size([3, 4, 2])\n"
     ]
    }
   ],
   "source": [
    "\n",
    "# Create a tensor of shape (2, 3, 4)\n",
    "x0 = torch.tensor([\n",
    "     [[1,  2,  3,  4],\n",
    "      [5,  6,  7,  8],\n",
    "      [9, 10, 11, 12]],\n",
    "     [[13, 14, 15, 16],\n",
    "      [17, 18, 19, 20],\n",
    "      [21, 22, 23, 24]]])\n",
    "print('Original tensor:')\n",
    "print(x0)\n",
    "print('shape:', x0.shape)\n",
    "\n",
    "# Swap axes 1 and 2; shape is (2, 4, 3)\n",
    "x1 = x0.transpose(1, 2)\n",
    "print('\\nSwap axes 1 and 2:')\n",
    "print(x1)\n",
    "print(x1.shape)\n",
    "\n",
    "# Permute axes; the argument (1, 2, 0) means:\n",
    "# - Make the old dimension 1 appear at dimension 0;\n",
    "# - Make the old dimension 2 appear at dimension 1;\n",
    "# - Make the old dimension 0 appear at dimension 2\n",
    "# This results in a tensor of shape (3, 4, 2)\n",
    "x2 = x0.permute(1, 2, 0)\n",
    "print('\\nPermute axes')\n",
    "print(x2)\n",
    "print('shape:', x2.shape)"
   ]
  },
  {
   "cell_type": "markdown",
   "metadata": {
    "id": "CHKzzpAAuvpG"
   },
   "source": [
    "## Contiguous Tensors\n",
    "\n",
    "\n",
    "\n",
    "Some combinations of reshaping operations will fail with cryptic errors. The exact reasons for this have to do with the way that tensors and views of tensors are implemented, and are beyond the scope of this assignment. However if you're curious, [this blog post by Edward Yang](http://blog.ezyang.com/2019/05/pytorch-internals/) gives a clear explanation of the problem.\n",
    "\n",
    "What you need to know is that you can typically overcome these sorts of errors by either by calling ***.contiguous()*** before ***.view()***, or by using ***.reshape()*** instead of ***.view()***.\n"
   ]
  },
  {
   "cell_type": "code",
   "execution_count": null,
   "metadata": {
    "id": "qq2V5ETAuvpK",
    "outputId": "b15de1bd-746c-4782-a7e7-49291928ca3b"
   },
   "outputs": [
    {
     "name": "stdout",
     "output_type": "stream",
     "text": [
      "<class 'RuntimeError'> view size is not compatible with input tensor's size and stride (at least one dimension spans across two contiguous subspaces). Use .reshape(...) instead.\n",
      "x1 shape:  torch.Size([8, 3])\n",
      "x2 shape:  torch.Size([8, 3])\n"
     ]
    }
   ],
   "source": [
    "x0 = torch.randn(2, 3, 4)\n",
    "\n",
    "try:\n",
    "  # This sequence of reshape operations will crash\n",
    "  x1 = x0.transpose(1, 2).view(8, 3)\n",
    "except RuntimeError as e:\n",
    "  print(type(e), e)\n",
    "  \n",
    "# We can solve the problem using either .contiguous() or .reshape()\n",
    "x1 = x0.transpose(1, 2).contiguous().view(8, 3)\n",
    "x2 = x0.transpose(1, 2).reshape(8, 3)\n",
    "print('x1 shape: ', x1.shape)\n",
    "print('x2 shape: ', x2.shape)"
   ]
  },
  {
   "cell_type": "markdown",
   "metadata": {
    "id": "a5V1mGqOuvpO"
   },
   "source": [
    "# 4.Tensor Operations\n",
    "\n",
    "## Elementwise Operations\n",
    "\n",
    "Basic mathematical functions operate elementwise on tensors, and are available as operator overloads, as functions in the torch module, and as instance methods on torch objects; all produce the same results:"
   ]
  },
  {
   "cell_type": "code",
   "execution_count": null,
   "metadata": {
    "id": "2e7em1iduvpO",
    "outputId": "75b8a9b4-db43-481e-aca1-fec0b87dd858"
   },
   "outputs": [
    {
     "name": "stdout",
     "output_type": "stream",
     "text": [
      "Elementwise sum:\n",
      "tensor([[ 8., 10., 12.],\n",
      "        [14., 16., 18.]])\n",
      "tensor([[ 8., 10., 12.],\n",
      "        [14., 16., 18.]])\n",
      "tensor([[ 8., 10., 12.],\n",
      "        [14., 16., 18.]])\n",
      "\n",
      "Elementwise difference:\n",
      "tensor([[-6., -6., -6.],\n",
      "        [-6., -6., -6.]])\n",
      "tensor([[-6., -6., -6.],\n",
      "        [-6., -6., -6.]])\n",
      "tensor([[-6., -6., -6.],\n",
      "        [-6., -6., -6.]])\n",
      "\n",
      "Elementwise product:\n",
      "tensor([[ 7., 16., 27.],\n",
      "        [40., 55., 72.]])\n",
      "tensor([[ 7., 16., 27.],\n",
      "        [40., 55., 72.]])\n",
      "tensor([[ 7., 16., 27.],\n",
      "        [40., 55., 72.]])\n",
      "\n",
      "Elementwise division\n",
      "tensor([[0.1429, 0.2500, 0.3333],\n",
      "        [0.4000, 0.4545, 0.5000]])\n",
      "tensor([[0.1429, 0.2500, 0.3333],\n",
      "        [0.4000, 0.4545, 0.5000]])\n",
      "tensor([[0.1429, 0.2500, 0.3333],\n",
      "        [0.4000, 0.4545, 0.5000]])\n",
      "\n",
      "Elementwise power\n",
      "tensor([[1.0000e+00, 2.5600e+02, 1.9683e+04],\n",
      "        [1.0486e+06, 4.8828e+07, 2.1768e+09]])\n",
      "tensor([[1.0000e+00, 2.5600e+02, 1.9683e+04],\n",
      "        [1.0486e+06, 4.8828e+07, 2.1768e+09]])\n",
      "tensor([[1.0000e+00, 2.5600e+02, 1.9683e+04],\n",
      "        [1.0486e+06, 4.8828e+07, 2.1768e+09]])\n"
     ]
    }
   ],
   "source": [
    "x = torch.tensor([[1,2,3],[4,5,6]], dtype=torch.float32)\n",
    "y = torch.tensor([[7,8,9],[10,11,12]], dtype=torch.float32)\n",
    "\n",
    "# Elementwise sum; all give the same result\n",
    "print('Elementwise sum:')\n",
    "print(x + y)\n",
    "print(torch.add(x, y))\n",
    "print(x.add(y))\n",
    "\n",
    "# Elementwise difference\n",
    "print('\\nElementwise difference:')\n",
    "print(x - y)\n",
    "print(torch.sub(x, y))\n",
    "print(x.sub(y))\n",
    "\n",
    "# Elementwise product\n",
    "print('\\nElementwise product:')\n",
    "print(x * y)\n",
    "print(torch.mul(x, y))\n",
    "print(x.mul(y))\n",
    "\n",
    "# Elementwise division\n",
    "print('\\nElementwise division')\n",
    "print(x / y)\n",
    "print(torch.div(x, y))\n",
    "print(x.div(y))\n",
    "\n",
    "# Elementwise power\n",
    "print('\\nElementwise power')\n",
    "print(x ** y)\n",
    "print(torch.pow(x, y))\n",
    "print(x.pow(y))\n"
   ]
  },
  {
   "cell_type": "markdown",
   "metadata": {
    "id": "iXHevxazuvpQ"
   },
   "source": [
    "Torch also provides many standard mathematical functions; these are available both as functions in the torch module and as instance methods on tensors:\n",
    "\n",
    "You can find a full list of all available mathematical functions in the [documentation](https://pytorch.org/docs/stable/torch.html#pointwise-ops); many functions in the torch module have corresponding instance methods on [tensor objects](https://pytorch.org/docs/stable/tensors.html)."
   ]
  },
  {
   "cell_type": "code",
   "execution_count": null,
   "metadata": {
    "id": "k6UCx9qBuvpR",
    "outputId": "6bb115cf-25df-436e-a312-517747b9de15"
   },
   "outputs": [
    {
     "name": "stdout",
     "output_type": "stream",
     "text": [
      "Square root:\n",
      "tensor([[1.0000, 1.4142, 1.7321, 2.0000]])\n",
      "tensor([[1.0000, 1.4142, 1.7321, 2.0000]])\n",
      "\n",
      "Trig functions:\n",
      "tensor([[ 0.8415,  0.9093,  0.1411, -0.7568]])\n",
      "tensor([[ 0.8415,  0.9093,  0.1411, -0.7568]])\n",
      "tensor([[ 0.5403, -0.4161, -0.9900, -0.6536]])\n",
      "tensor([[ 0.5403, -0.4161, -0.9900, -0.6536]])\n"
     ]
    }
   ],
   "source": [
    "x = torch.tensor([[1, 2, 3, 4]], dtype=torch.float32)\n",
    "\n",
    "print('Square root:')\n",
    "print(torch.sqrt(x))\n",
    "print(x.sqrt())\n",
    "\n",
    "print('\\nTrig functions:')\n",
    "print(torch.sin(x))\n",
    "print(x.sin())\n",
    "print(torch.cos(x))\n",
    "print(x.cos())"
   ]
  },
  {
   "cell_type": "markdown",
   "metadata": {
    "id": "2_9g8T8OuvpU"
   },
   "source": [
    "## Reduction Operations\n",
    "\n",
    "So far we've seen basic arithmetic operations on tensors that operate elementwise. We may sometimes want to perform operations that aggregate over part or all of a tensor, such as a summation; these are called reduction operations.\n",
    "\n",
    "Like the elementwise operations above, most reduction operations are available both as functions in the torch module and as instance methods on tensor objects.\n",
    "\n",
    "The simplest reduction operation is summation. We can use the .sum() function to reduce either an entire tensor, or to reduce along only one dimension of the tensor using the dim argument:"
   ]
  },
  {
   "cell_type": "code",
   "execution_count": null,
   "metadata": {
    "id": "2eIdEGd-uvpU",
    "outputId": "ac0cbda7-c3d5-416b-b886-afca7915a830"
   },
   "outputs": [
    {
     "name": "stdout",
     "output_type": "stream",
     "text": [
      "Original tensor:\n",
      "tensor([[1., 2., 3.],\n",
      "        [4., 5., 6.],\n",
      "        [7., 8., 9.]])\n",
      "\n",
      "Sum over entire tensor:\n",
      "tensor(45.)\n",
      "tensor(45.)\n",
      "\n",
      "Sum of each row:\n",
      "tensor([12., 15., 18.])\n",
      "tensor([12., 15., 18.])\n",
      "\n",
      "Sum of each column:\n",
      "tensor([ 6., 15., 24.])\n",
      "tensor([ 6., 15., 24.])\n"
     ]
    }
   ],
   "source": [
    "x = torch.tensor([[1, 2, 3], \n",
    "                  [4, 5, 6],\n",
    "                  [7, 8, 9]], dtype=torch.float32)\n",
    "print('Original tensor:')\n",
    "print(x)\n",
    "\n",
    "print('\\nSum over entire tensor:')\n",
    "print(torch.sum(x))\n",
    "print(x.sum())\n",
    "\n",
    "# We can sum over each row:\n",
    "print('\\nSum of each row:')\n",
    "print(torch.sum(x, dim=0))\n",
    "print(x.sum(dim=0))\n",
    "\n",
    "# Sum over each column:\n",
    "print('\\nSum of each column:')\n",
    "print(torch.sum(x, dim=1))\n",
    "print(x.sum(dim=1))"
   ]
  },
  {
   "cell_type": "markdown",
   "metadata": {
    "id": "_Em5D8qUuvpY"
   },
   "source": [
    "\n",
    "Other useful reduction operations include **mean**, **min**, and **max**. You can find a full list of all available reduction operations in the [documentation](https://pytorch.org/docs/stable/torch.html#reduction-ops).\n",
    "\n",
    "Some reduction operations return more than one value; for example min returns both the minimum value over the specified dimension, as well as the index where the minimum value occurs:"
   ]
  },
  {
   "cell_type": "code",
   "execution_count": null,
   "metadata": {
    "id": "Hl5Ac491uvpZ",
    "outputId": "59655805-f6cb-465d-f9b7-a3c6373bd16b"
   },
   "outputs": [
    {
     "name": "stdout",
     "output_type": "stream",
     "text": [
      "Original tensor:\n",
      "tensor([[1., 4., 7.],\n",
      "        [2., 7., 5.],\n",
      "        [9., 6., 4.]]) torch.Size([3, 3])\n",
      "\n",
      "Overall minimum:  tensor(1.)\n",
      "\n",
      "Minimum along each column:\n",
      "values: tensor([1., 4., 4.])\n",
      "idxs: tensor([0, 0, 2])\n",
      "\n",
      "Minimum along each row:\n",
      "values: tensor([1., 2., 4.])\n",
      "idxs: tensor([0, 0, 2])\n"
     ]
    }
   ],
   "source": [
    "x = torch.tensor([[1,4,7], [2,7,5],[9,6,4]], dtype=torch.float32)\n",
    "print('Original tensor:')\n",
    "print(x, x.shape)\n",
    "\n",
    "# Finding the overall minimum only returns a single value\n",
    "print('\\nOverall minimum: ', x.min())\n",
    "\n",
    "# Compute the minimum along each column; we get both the value and location:\n",
    "# The minimum of the first column is 2, and it appears at index 0;\n",
    "# the minimum of the second column is 3 and it appears at index 1; etc\n",
    "col_min_vals, col_min_idxs = x.min(dim=0)\n",
    "print('\\nMinimum along each column:')\n",
    "print('values:', col_min_vals)\n",
    "print('idxs:', col_min_idxs)\n",
    " \n",
    "# Compute the minimum along each row; we get both the value and location \n",
    "row_min_vals, row_min_idxs = x.min(dim=1)\n",
    "print('\\nMinimum along each row:')\n",
    "print('values:', row_min_vals)\n",
    "print('idxs:', row_min_idxs)"
   ]
  },
  {
   "cell_type": "markdown",
   "metadata": {
    "id": "x4gXDN9puvpb"
   },
   "source": [
    "Reduction operations reduce the rank of tensors: the dimension over which you perform the reduction will be removed from the shape of the output. If you pass keepdim=True to a reduction operation, the specified dimension will not be removed; the output tensor will instead have a shape of 1 in that dimension.\n",
    "\n",
    "When you are working with multidimensional tensors, thinking about rows and columns can become confusing; instead it's more useful to think about the shape that will result from each operation. For example: "
   ]
  },
  {
   "cell_type": "code",
   "execution_count": null,
   "metadata": {
    "id": "EovrmNIluvpb",
    "outputId": "85898d52-0cb5-4277-fa2e-01a850141d56"
   },
   "outputs": [
    {
     "name": "stdout",
     "output_type": "stream",
     "text": [
      "torch.Size([128, 10, 3, 64, 64])\n",
      "torch.Size([128, 3, 64, 64])\n",
      "torch.Size([128, 3, 64])\n",
      "torch.Size([128, 1, 64])\n",
      "tensor([[[ 1.6104e-03, -7.5883e-02,  2.8864e-01,  ..., -1.5367e+00,\n",
      "          -1.8542e+00, -3.4666e-01]],\n",
      "\n",
      "        [[ 1.0103e+00, -7.5574e-01,  9.2218e-01,  ...,  1.0086e+00,\n",
      "          -8.8967e-01, -3.4153e-01]],\n",
      "\n",
      "        [[ 2.8484e+00, -2.0620e+00, -8.2875e-01,  ...,  3.7990e-01,\n",
      "           2.8070e+00,  1.3726e+00]],\n",
      "\n",
      "        ...,\n",
      "\n",
      "        [[-1.4905e+00, -8.6200e-01,  6.2250e-01,  ..., -1.6397e+00,\n",
      "           6.2946e-01,  1.1919e+00]],\n",
      "\n",
      "        [[ 1.8130e+00,  1.3095e+00,  1.2870e+00,  ...,  2.1866e+00,\n",
      "           4.1466e-01,  1.0333e+00]],\n",
      "\n",
      "        [[ 1.0480e+00,  4.8501e+00,  1.6249e+00,  ...,  1.5051e+00,\n",
      "          -1.6254e+00, -3.0280e+00]]])\n"
     ]
    }
   ],
   "source": [
    "# Create a tensor of shape (128, 10, 3, 64, 64)\n",
    "x = torch.randn(128, 10, 3, 64, 64)\n",
    "print(x.shape)\n",
    "\n",
    "# Take the mean over dimension 1; shape is now (128, 3, 64, 64)\n",
    "x = x.mean(dim=1)\n",
    "print(x.shape)\n",
    "\n",
    "# Take the sum over dimension 2; shape is now (128, 3, 64)\n",
    "x = x.sum(dim=2)\n",
    "print(x.shape)\n",
    "\n",
    "# Take the mean over dimension 1, but keep the dimension from being eliminated\n",
    "# by passing keepdim=True; shape is now (128, 1, 64)\n",
    "x = x.mean(dim=1, keepdim=True)\n",
    "print(x.shape)\n",
    "print(x)"
   ]
  },
  {
   "cell_type": "markdown",
   "metadata": {
    "id": "0kE00MYwuvpg"
   },
   "source": [
    "## Matrix Operations\n",
    "\n",
    "\n",
    "PyTorch provides a number of linear algebra functions that compute different types of vector and matrix products. The most commonly used are:\n",
    "\n",
    "- torch.dot: Computes inner product of vectors\n",
    "- torch.mm: Computes matrix-matrix products\n",
    "- torch.mv: Computes matrix-vector products\n",
    "- torch.addmm / torch.addmv: Computes matrix-matrix and matrix-vector multiplications plus a bias\n",
    "- torch.bmm / torch.baddmm: Batched versions of torch.mm and torch.addmm, respectively\n",
    "- torch.matmul: General matrix product that performs different operations depending on the rank of the inputs; this is similar to ***np.dot*** in numpy.\n",
    "\n",
    "You can find a full list of the available linear algebra operators in the [documentation](https://pytorch.org/docs/1.1.0/torch.html#blas-and-lapack-operations).\n",
    "\n",
    "\n",
    "Here is an example of using torch.dot to compute inner products. Like the other mathematical operators we've seen, most linear algebra operators are available both as functions in the torch module and as instance methods of tensors:"
   ]
  },
  {
   "cell_type": "code",
   "execution_count": 17,
   "metadata": {
    "id": "tF4NGp4zuvpg",
    "outputId": "fa916b52-96a4-4864-b971-55e646044d50"
   },
   "outputs": [
    {
     "name": "stdout",
     "output_type": "stream",
     "text": [
      "tensor([1., 2., 3., 4.])\n",
      "tensor([5., 6., 7., 8.])\n",
      "Dot products:\n",
      "tensor(70.)\n",
      "tensor(70.)\n",
      "\n",
      "Matrix-matrix product:\n",
      "tensor([[ 26.,  32.],\n",
      "        [ 58.,  72.],\n",
      "        [ 90., 112.],\n",
      "        [122., 152.]])\n",
      "tensor([[ 26.,  32.],\n",
      "        [ 58.,  72.],\n",
      "        [ 90., 112.],\n",
      "        [122., 152.]])\n",
      "tensor([[ 26.,  32.],\n",
      "        [ 58.,  72.],\n",
      "        [ 90., 112.],\n",
      "        [122., 152.]])\n",
      "\n",
      "Matrix-vector product with torch.mv (rank 1 output)\n",
      "tensor([16., 36., 56., 76.])\n",
      "tensor([16., 36., 56., 76.])\n"
     ]
    }
   ],
   "source": [
    "v = torch.tensor([1,2,3,4], dtype=torch.float32)   # Modified\n",
    "w = torch.tensor([5,6,7,8], dtype=torch.float32)\n",
    "\n",
    "print(v)\n",
    "print(w)\n",
    "# Inner product of vectors\n",
    "print('Dot products:')\n",
    "print(torch.dot(v, w))\n",
    "print(v.dot(w))\n",
    "\n",
    "# we use mm for matrix-matrix products:\n",
    "x = torch.tensor([[1,2,1,2],[3,4,3,4],[5,6,5,6],[7,8,7,8]], dtype=torch.float32)\n",
    "y = torch.tensor([[1,2],[3,4],[5,6],[7,8]], dtype=torch.float32)\n",
    "print('\\nMatrix-matrix product:')\n",
    "print(torch.mm(x, y))\n",
    "print(torch.matmul(x,y))  # we can also using matmul for matrix-matrix products\n",
    "print(x.mm(y))\n",
    "\n",
    "# Matrix-vector multiply with torch.mv produces a rank-1 output\n",
    "print('\\nMatrix-vector product with torch.mv (rank 1 output)')\n",
    "print(torch.mv(x, v))\n",
    "print(x.mv(v))"
   ]
  },
  {
   "cell_type": "markdown",
   "metadata": {
    "id": "Hn-JbjEmuvpj"
   },
   "source": [
    "# 5.Broadcasting\n",
    "\n",
    "Broadcasting is a powerful mechanism that allows PyTorch to work with arrays of different shapes when performing arithmetic operations. Frequently we have a smaller tensor and a larger tensor, and we want to use the smaller tensor multiple times to perform some operation on the larger tensor.\n",
    "\n",
    "For example, suppose that we want to add a constant vector to each row of a tensor. We could do it like this:"
   ]
  },
  {
   "cell_type": "code",
   "execution_count": null,
   "metadata": {
    "id": "2dI4fbBcuvpj",
    "outputId": "61bfc62c-2391-4e82-e16e-67bd2e078626"
   },
   "outputs": [
    {
     "name": "stdout",
     "output_type": "stream",
     "text": [
      "tensor([[ 2,  2,  4],\n",
      "        [ 5,  5,  7],\n",
      "        [ 8,  8, 10],\n",
      "        [11, 11, 13]])\n"
     ]
    }
   ],
   "source": [
    "# We will add the vector v to each row of the matrix x,\n",
    "# storing the result in the matrix y\n",
    "x = torch.tensor([[1,2,3], [4,5,6], [7,8,9], [10, 11, 12]])\n",
    "v = torch.tensor([1, 0, 1])\n",
    "y = torch.zeros_like(x)   # Create an empty matrix with the same shape as x\n",
    "\n",
    "# Add the vector v to each row of the matrix x with an explicit loop\n",
    "for i in range(4):\n",
    "    y[i, :] = x[i, :] + v\n",
    "print(y)"
   ]
  },
  {
   "cell_type": "markdown",
   "metadata": {
    "id": "M9F98dREuvpm"
   },
   "source": [
    "\n",
    "This works; however when the tensor x is very large, computing an explicit loop in Python could be slow. Note that adding the vector v to each row of the tensor x is equivalent to forming a tensor vv by stacking multiple copies of v vertically, then performing elementwise summation of x and vv. We could implement this approach like this:"
   ]
  },
  {
   "cell_type": "code",
   "execution_count": null,
   "metadata": {
    "id": "VQpXF0UFuvpn",
    "outputId": "68531255-eaef-4a0d-c447-fc8bb97fa0b3"
   },
   "outputs": [
    {
     "name": "stdout",
     "output_type": "stream",
     "text": [
      "tensor([[1, 0, 1],\n",
      "        [1, 0, 1],\n",
      "        [1, 0, 1],\n",
      "        [1, 0, 1]])\n"
     ]
    }
   ],
   "source": [
    "\n",
    "vv = v.repeat((4, 1))  # Stack 4 copies of v on top of each other\n",
    "print(vv)              # Prints \"[[1 0 1]\n",
    "                       #          [1 0 1]\n",
    "                       #          [1 0 1]\n",
    "                       #          [1 0 1]]\""
   ]
  },
  {
   "cell_type": "code",
   "execution_count": null,
   "metadata": {
    "id": "lE6aLeqzuvpq",
    "outputId": "9c41de06-e9ba-41cb-ac9e-81a35826d782"
   },
   "outputs": [
    {
     "name": "stdout",
     "output_type": "stream",
     "text": [
      "tensor([[ 2,  2,  4],\n",
      "        [ 5,  5,  7],\n",
      "        [ 8,  8, 10],\n",
      "        [11, 11, 13]])\n"
     ]
    }
   ],
   "source": [
    "y = x + vv  # Add x and vv elementwise\n",
    "print(y)"
   ]
  },
  {
   "cell_type": "markdown",
   "metadata": {
    "id": "cnLn1Thbuvpu"
   },
   "source": [
    "\n",
    "PyTorch broadcasting allows us to perform this computation without actually creating multiple copies of v. Consider this version, using broadcasting:"
   ]
  },
  {
   "cell_type": "code",
   "execution_count": null,
   "metadata": {
    "id": "ZueLK9Gmuvpw",
    "outputId": "867ddee9-b534-49e5-b400-adec85d489f9"
   },
   "outputs": [
    {
     "name": "stdout",
     "output_type": "stream",
     "text": [
      "tensor([[ 2,  4,  6],\n",
      "        [ 5,  7,  9],\n",
      "        [ 8, 10, 12],\n",
      "        [11, 13, 15]])\n"
     ]
    }
   ],
   "source": [
    "\n",
    "# We will add the vector v to each row of the matrix x,\n",
    "# storing the result in the matrix y\n",
    "x = torch.tensor([[1,2,3], [4,5,6], [7,8,9], [10, 11, 12]])\n",
    "v = torch.tensor([1, 2, 3])\n",
    "y = x + v  # Add v to each row of x using broadcasting\n",
    "print(y)"
   ]
  },
  {
   "cell_type": "markdown",
   "metadata": {
    "id": "TpKUaic1uvp2"
   },
   "source": [
    "\n",
    "The line y = x + v works even though x has shape (4, 3) and v has shape (3,) due to broadcasting; this line works as if v actually had shape (4, 3), where each row was a copy of v, and the sum was performed elementwise.\n",
    "\n",
    "Broadcasting two tensors together follows these rules:\n",
    "\n",
    "- If the tensors do not have the same rank, prepend the shape of the lower rank array with 1s until both shapes have the same length.\n",
    "- The two tensors are said to be compatible in a dimension if they have the same size in the dimension, or if one of the tensors has size 1 in that dimension.\n",
    "- The tensors can be broadcast together if they are compatible in all dimensions.\n",
    "- After broadcasting, each tensor behaves as if it had shape equal to the elementwise maximum of shapes of the two input tensors.\n",
    "- In any dimension where one tensor had size 1 and the other tensor had size greater than 1, the first tensor behaves as if it were copied along that dimension\n",
    "\n",
    "If this explanation does not make sense, try reading the explanation from the [documentation](https://pytorch.org/docs/stable/notes/broadcasting.html).\n",
    "\n",
    "Not all functions support broadcasting. You can find functions that does not support broadcasting from the official docs. (e.g. ***torch.mm*** does not support broadcasting, but ***torch.matmul*** does)\n",
    "\n",
    "Broadcasting can let us easily implement many different operations. For example we can compute an outer product of vectors:"
   ]
  },
  {
   "cell_type": "code",
   "execution_count": null,
   "metadata": {
    "id": "39_X5fqFuvp5",
    "outputId": "d5c4dc26-dd7b-4599-a457-7add828a9533"
   },
   "outputs": [
    {
     "name": "stdout",
     "output_type": "stream",
     "text": [
      "tensor([[ 4,  5],\n",
      "        [ 8, 10],\n",
      "        [12, 15]])\n"
     ]
    }
   ],
   "source": [
    "# Compute outer product of vectors\n",
    "v = torch.tensor([1, 2, 3])  # v has shape (3,)\n",
    "w = torch.tensor([4, 5])     # w has shape (2,)\n",
    "# To compute an outer product, we first reshape v to be a column\n",
    "# vector of shape (3, 1); we can then broadcast it against w to yield\n",
    "# an output of shape (3, 2), which is the outer product of v and w:\n",
    "print(v.view(3, 1) * w)"
   ]
  },
  {
   "cell_type": "markdown",
   "metadata": {
    "id": "J_rM-2rTuvp-"
   },
   "source": [
    "# 6.Running on GPU\n",
    "\n",
    "One of the most important features of PyTorch is that it can use graphics processing units (GPUs) to accelerate its tensor operations.\n",
    "\n",
    "We can easily check whether PyTorch is configured to use GPUs:\n",
    "\n",
    "Tensors can be moved onto any device using the .to method."
   ]
  },
  {
   "cell_type": "code",
   "execution_count": 2,
   "metadata": {
    "colab": {
     "base_uri": "https://localhost:8080/",
     "height": 34
    },
    "executionInfo": {
     "elapsed": 3881,
     "status": "ok",
     "timestamp": 1601397692108,
     "user": {
      "displayName": "Shuang Ma",
      "photoUrl": "https://lh3.googleusercontent.com/a-/AOh14GjSfvORx7n9xRmG0qLvTA1ThID_c-h1MCxB0jo_oQ=s64",
      "userId": "14507136451951563303"
     },
     "user_tz": 240
    },
    "id": "-LhRmAMOuvp_",
    "outputId": "6ed786e1-c29c-45b2-c9d1-63ef3d58f4c3"
   },
   "outputs": [
    {
     "name": "stdout",
     "output_type": "stream",
     "text": [
      "PyTorch can use GPUs!\n"
     ]
    }
   ],
   "source": [
    "\n",
    "import torch\n",
    "\n",
    "if torch.cuda.is_available:\n",
    "  print('PyTorch can use GPUs!')\n",
    "else:\n",
    "  print('PyTorch cannot use GPUs.')"
   ]
  },
  {
   "cell_type": "markdown",
   "metadata": {
    "id": "dNcbzxkGuvqD"
   },
   "source": [
    "\n",
    "You can enable GPUs in Colab via Runtime -> Change Runtime Type -> Hardware Accelerator -> GPU.\n",
    "\n",
    "This may cause the Colab runtime to restart, so we will re-import torch in the next cell.\n",
    "\n",
    "We have already seen that PyTorch tensors have a dtype attribute specifying their datatype. All PyTorch tensors also have a device attribute that specifies the device where the tensor is stored -- either CPU, or CUDA (for NVIDA GPUs). A tensor on a CUDA device will automatically use that device to accelerate all of its operations.\n",
    "\n",
    "Just as with datatypes, we can use the ***.to()*** method to change the device of a tensor. We can also use the convenience methods ***.cuda()*** and ***.cpu()*** methods to move tensors between CPU and GPU."
   ]
  },
  {
   "cell_type": "code",
   "execution_count": 3,
   "metadata": {
    "colab": {
     "base_uri": "https://localhost:8080/",
     "height": 136
    },
    "executionInfo": {
     "elapsed": 10362,
     "status": "ok",
     "timestamp": 1601397705208,
     "user": {
      "displayName": "Shuang Ma",
      "photoUrl": "https://lh3.googleusercontent.com/a-/AOh14GjSfvORx7n9xRmG0qLvTA1ThID_c-h1MCxB0jo_oQ=s64",
      "userId": "14507136451951563303"
     },
     "user_tz": 240
    },
    "id": "q10W9LMFuvqD",
    "outputId": "d4008955-4b22-4bd3-f423-5a8dfd9ae075"
   },
   "outputs": [
    {
     "name": "stdout",
     "output_type": "stream",
     "text": [
      "x0 device: cpu\n",
      "x1 device: cuda:0\n",
      "x2 device: cuda:0\n",
      "x3 device: cpu\n",
      "x4 device: cpu\n",
      "y device / dtype: cuda:0 torch.float64\n",
      "x5 device / dtype: cuda:0 torch.float64\n"
     ]
    }
   ],
   "source": [
    "# Construct a tensor on the CPU\n",
    "x0 = torch.tensor([[1, 2], [3, 4]], dtype=torch.float32)\n",
    "print('x0 device:', x0.device)\n",
    "\n",
    "# Move it to the GPU using .to()\n",
    "x1 = x0.to('cuda')\n",
    "print('x1 device:', x1.device)\n",
    "\n",
    "# Move it to the GPU using .cuda()\n",
    "x2 = x0.cuda()\n",
    "print('x2 device:', x2.device)\n",
    "\n",
    "# Move it back to the CPU using .to()\n",
    "x3 = x1.to('cpu')\n",
    "print('x3 device:', x3.device)\n",
    "\n",
    "# Move it back to the CPU using .cpu()\n",
    "x4 = x2.cpu()\n",
    "print('x4 device:', x4.device)\n",
    "\n",
    "# We can construct tensors directly on the GPU as well\n",
    "y = torch.tensor([[1, 2, 3], [4, 5, 6]], dtype=torch.float64, device='cuda')\n",
    "print('y device / dtype:', y.device, y.dtype)\n",
    "\n",
    "# Calling x.to(y) where y is a tensor will return a copy of x with the same\n",
    "# device and dtype as y\n",
    "x5 = x0.to(y)\n",
    "print('x5 device / dtype:', x5.device, x5.dtype)"
   ]
  },
  {
   "cell_type": "code",
   "execution_count": null,
   "metadata": {
    "id": "80c93qmUvef2"
   },
   "outputs": [],
   "source": []
  },
  {
   "cell_type": "markdown",
   "metadata": {
    "id": "5g_7W01zuvqF"
   },
   "source": [
    "\n",
    "\n",
    "Performing large tensor operations on a GPU can be a lot faster than running the equivalent operation on CPU.\n",
    "\n",
    "Here we compare the speed of adding two tensors of shape (10000, 10000) on CPU and GPU:"
   ]
  },
  {
   "cell_type": "code",
   "execution_count": 4,
   "metadata": {
    "colab": {
     "base_uri": "https://localhost:8080/",
     "height": 85
    },
    "executionInfo": {
     "elapsed": 3558,
     "status": "ok",
     "timestamp": 1601397710832,
     "user": {
      "displayName": "Shuang Ma",
      "photoUrl": "https://lh3.googleusercontent.com/a-/AOh14GjSfvORx7n9xRmG0qLvTA1ThID_c-h1MCxB0jo_oQ=s64",
      "userId": "14507136451951563303"
     },
     "user_tz": 240
    },
    "id": "qA1J3txMuvqG",
    "outputId": "a5b2952b-ea04-4759-a327-26aa02c4ff0c"
   },
   "outputs": [
    {
     "name": "stdout",
     "output_type": "stream",
     "text": [
      "Max difference between c_gpu and c_cpu: 0.0\n",
      "CPU time: 230.80 ms\n",
      "GPU time: 11.37 ms\n",
      "GPU speedup: 20.31 x\n"
     ]
    }
   ],
   "source": [
    "\n",
    "import time\n",
    "\n",
    "a_cpu = torch.randn(10000, 10000, dtype=torch.float32)\n",
    "b_cpu = torch.randn(10000, 10000, dtype=torch.float32)\n",
    "\n",
    "a_gpu = a_cpu.cuda()\n",
    "b_gpu = b_cpu.cuda()\n",
    "torch.cuda.synchronize()\n",
    "\n",
    "t0 = time.time()\n",
    "c_cpu = a_cpu + b_cpu\n",
    "t1 = time.time()\n",
    "c_gpu = a_gpu + b_gpu\n",
    "torch.cuda.synchronize()\n",
    "t2 = time.time()\n",
    "\n",
    "# Check that they computed the same thing\n",
    "diff = (c_gpu.cpu() - c_cpu).abs().max().item()\n",
    "print('Max difference between c_gpu and c_cpu:', diff)\n",
    "\n",
    "cpu_time = 1000.0 * (t1 - t0)\n",
    "gpu_time = 1000.0 * (t2 - t1)\n",
    "print('CPU time: %.2f ms' % cpu_time)\n",
    "print('GPU time: %.2f ms' % gpu_time)\n",
    "print('GPU speedup: %.2f x' % (cpu_time / gpu_time))"
   ]
  },
  {
   "cell_type": "code",
   "execution_count": null,
   "metadata": {
    "id": "WLIcVv-quvqJ"
   },
   "outputs": [],
   "source": []
  }
 ],
 "metadata": {
  "accelerator": "GPU",
  "colab": {
   "collapsed_sections": [
    "lg_oaZzguvn2",
    "4_akThRAuvn5",
    "q_z_aR5wuvod",
    "lIZyrqFguvoo",
    "hC2BE9Vfuvo9",
    "CHKzzpAAuvpG",
    "2_9g8T8OuvpU",
    "0kE00MYwuvpg"
   ],
   "name": "6289hw1.ipynb",
   "provenance": []
  },
  "kernelspec": {
   "display_name": "Python 3",
   "language": "python",
   "name": "python3"
  },
  "language_info": {
   "codemirror_mode": {
    "name": "ipython",
    "version": 3
   },
   "file_extension": ".py",
   "mimetype": "text/x-python",
   "name": "python",
   "nbconvert_exporter": "python",
   "pygments_lexer": "ipython3",
   "version": "3.7.9"
  }
 },
 "nbformat": 4,
 "nbformat_minor": 1
}
