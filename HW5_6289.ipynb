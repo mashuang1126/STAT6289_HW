{
 "cells": [
  {
   "cell_type": "code",
   "execution_count": 1,
   "metadata": {},
   "outputs": [],
   "source": [
    "# from pymagnitude import Magnitude\n",
    "from pymagnitude import *\n",
    "file_path = \"/Users/ShuangMa/Desktop/GWU_Documents/STAT_6289_Statistical_Deep_Learning/Homework/GoogleNews-vectors-negative300.magnitude\"\n",
    "vectors = Magnitude(file_path)"
   ]
  },
  {
   "cell_type": "code",
   "execution_count": 2,
   "metadata": {},
   "outputs": [
    {
     "data": {
      "text/plain": [
       "0.69145405"
      ]
     },
     "execution_count": 2,
     "metadata": {},
     "output_type": "execute_result"
    }
   ],
   "source": [
    "vectors.distance(\"cat\",\"dog\")"
   ]
  },
  {
   "cell_type": "code",
   "execution_count": 3,
   "metadata": {},
   "outputs": [
    {
     "name": "stdout",
     "output_type": "stream",
     "text": [
      "[ 0.0040587  0.0671903 -0.0938735  0.0713696  0.0388996  0.0273262\n",
      "  0.0163957 -0.0031345  0.0726555 -0.0414715  0.0265225 -0.1928908\n",
      " -0.0014668 -0.0977313 -0.00432   -0.0274869  0.0166368  0.0498301\n",
      " -0.1478829 -0.0044606  0.0707266 -0.0485442  0.0739415 -0.04115\n",
      " -0.0319877  0.0819786 -0.0951595  0.1202353  0.1356665 -0.0282906\n",
      " -0.0258795 -0.0649399 -0.0298981 -0.0466153 -0.0337559  0.0430789\n",
      " -0.0011403  0.0237899  0.0145472  0.1138056  0.0245936 -0.0369707\n",
      "  0.0221824  0.0369707  0.0065101 -0.0406678  0.0691192 -0.0237899\n",
      " -0.0091623  0.0182443 -0.1099478  0.0281299  0.1131626  0.0459723\n",
      "  0.016235  -0.0443649  0.0536879 -0.1228071  0.1305228  0.0352026\n",
      "  0.072977   0.0700837 -0.0295766  0.0681547  0.0294158 -0.0271655\n",
      "  0.0196106  0.0335951 -0.0633325 -0.0298981  0.1620283  0.0130201\n",
      " -0.0233076 -0.000658  -0.0758704  0.084229   0.0295766 -0.0350418\n",
      "  0.0003466 -0.0193695  0.0167976 -0.0096044  0.063654  -0.0466153\n",
      " -0.1099478  0.026844  -0.0906587  0.0331129 -0.0343989 -0.0406678\n",
      " -0.0462938  0.0114931 -0.0387389 -0.0591532 -0.0707266 -0.0784423\n",
      "  0.0278084 -0.0247543 -0.0855149 -0.0700837 -0.07362   -0.0319877\n",
      "  0.0380959  0.0507946  0.0242721 -0.0906587  0.0469368 -0.0066306\n",
      "  0.0329522 -0.0626895 -0.0308625  0.0466153  0.0562598  0.1028751\n",
      " -0.0549739 -0.0286121 -0.0164761 -0.0819786 -0.0684762 -0.0310233\n",
      " -0.0403463 -0.031184  -0.1285939 -0.021861  -0.104161   0.036167\n",
      " -0.0005149  0.0143061  0.0514375 -0.062368  -0.0114931  0.0111716\n",
      " -0.0475797  0.0053045 -0.0466153 -0.0078764  0.0049428  0.0249151\n",
      "  0.0353633  0.041793   0.0352026 -0.003898  -0.0790852  0.0096044\n",
      "  0.0533665  0.0655829 -0.0925876  0.0549739 -0.0382567 -0.084229\n",
      "  0.1273079 -0.021861  -0.1517408 -0.0203339 -0.0475797 -0.0382567\n",
      "  0.0187265  0.0118146 -0.0352026  0.0620465 -0.0549739 -0.0059073\n",
      "  0.036167  -0.0406678 -0.0536879 -0.0475797  0.042436   0.0379352\n",
      "  0.0450079  0.0187265 -0.0266832 -0.0202535 -0.0220217  0.0919446\n",
      " -0.0646184  0.0237899  0.0405071 -0.0691192 -0.0726555  0.0704051\n",
      " -0.0488657 -0.0195302  0.0171994  0.021218  -0.0086801  0.0434004\n",
      "  0.0639754  0.0893727  0.0614036  0.0462938  0.0215395 -0.0475797\n",
      "  0.0165565  0.0290944  0.0403463  0.0880868  0.0176013 -0.1060899\n",
      " -0.0681547  0.0597961  0.0145472 -0.072977  -0.0453293 -0.0137435\n",
      " -0.0009444  0.013422   0.0239506 -0.0273262  0.0276477 -0.1105907\n",
      " -0.1318087  0.0057867 -0.0614036 -0.0158331 -0.063011   0.0332737\n",
      "  0.030541  -0.1009462 -0.0655829 -0.0055456  0.0401856  0.0482227\n",
      " -0.042436  -0.0774778 -0.0176817 -0.021861   0.0226647 -0.0119753\n",
      "  0.0694407 -0.0197713  0.063654   0.0169583 -0.0175209  0.009524\n",
      " -0.0906587  0.0278084  0.1080188  0.0059877  0.0049227  0.0155116\n",
      "  0.1240931 -0.0720126 -0.0111716  0.003677   0.1215212  0.0071128\n",
      "  0.0114127  0.0239506  0.0527235 -0.0543309 -0.0977313  0.0495086\n",
      " -0.0958024  0.0459723  0.0014768  0.0565813 -0.0723341  0.0307018\n",
      " -0.0626895  0.0052643 -0.0303803  0.051759  -0.0466153 -0.0176013\n",
      "  0.0118949  0.0777993 -0.0498301 -0.0022705 -0.0893727 -0.0234684\n",
      " -0.0543309  0.0607606 -0.0276477  0.0610821  0.0384174  0.0090819\n",
      " -0.0156724  0.0588317  0.0215395 -0.0116538  0.0755489  0.008881\n",
      " -0.0321485  0.0887298  0.0274869 -0.0430789 -0.0332737 -0.0024312\n",
      "  0.0234684  0.0491872 -0.0678333  0.0594747 -0.0520805  0.0195302\n",
      "  0.0945165 -0.0153509  0.0498301  0.1620283 -0.0906587  0.0184854]\n"
     ]
    }
   ],
   "source": [
    "cat_vector = vectors.query('cat')\n",
    "print(cat_vector)"
   ]
  },
  {
   "cell_type": "code",
   "execution_count": 16,
   "metadata": {},
   "outputs": [
    {
     "name": "stdout",
     "output_type": "stream",
     "text": [
      "0.76094574\n"
     ]
    }
   ],
   "source": [
    "print(vectors.similarity(\"cat\", \"dog\"))"
   ]
  },
  {
   "cell_type": "code",
   "execution_count": 17,
   "metadata": {},
   "outputs": [
    {
     "name": "stdout",
     "output_type": "stream",
     "text": [
      "[('cats', 0.8099379)]\n"
     ]
    }
   ],
   "source": [
    "print(vectors.most_similar(\"cat\", topn=1))"
   ]
  },
  {
   "cell_type": "code",
   "execution_count": 18,
   "metadata": {},
   "outputs": [],
   "source": [
    "queen = vectors.query('queen')\n",
    "king = vectors.query('king')"
   ]
  },
  {
   "cell_type": "code",
   "execution_count": 19,
   "metadata": {},
   "outputs": [
    {
     "name": "stdout",
     "output_type": "stream",
     "text": [
      "0.6510958\n"
     ]
    }
   ],
   "source": [
    "print(vectors.similarity(king,queen))"
   ]
  },
  {
   "cell_type": "code",
   "execution_count": 11,
   "metadata": {},
   "outputs": [
    {
     "name": "stdout",
     "output_type": "stream",
     "text": [
      "0.6510958\n"
     ]
    }
   ],
   "source": [
    "print(vectors.similarity('king','queen'))"
   ]
  },
  {
   "cell_type": "code",
   "execution_count": 12,
   "metadata": {},
   "outputs": [
    {
     "data": {
      "text/plain": [
       "3000000"
      ]
     },
     "execution_count": 12,
     "metadata": {},
     "output_type": "execute_result"
    }
   ],
   "source": [
    "len(vectors)"
   ]
  },
  {
   "cell_type": "code",
   "execution_count": 13,
   "metadata": {},
   "outputs": [
    {
     "data": {
      "text/plain": [
       "True"
      ]
     },
     "execution_count": 13,
     "metadata": {},
     "output_type": "execute_result"
    }
   ],
   "source": [
    "'cat' in vectors"
   ]
  },
  {
   "cell_type": "code",
   "execution_count": 16,
   "metadata": {},
   "outputs": [
    {
     "data": {
      "text/plain": [
       "tuple"
      ]
     },
     "execution_count": 16,
     "metadata": {},
     "output_type": "execute_result"
    }
   ],
   "source": [
    "type(vectors[2])"
   ]
  },
  {
   "cell_type": "code",
   "execution_count": 17,
   "metadata": {},
   "outputs": [
    {
     "data": {
      "text/plain": [
       "[0.69145405, 0.9825516]"
      ]
     },
     "execution_count": 17,
     "metadata": {},
     "output_type": "execute_result"
    }
   ],
   "source": [
    "vectors.distance(\"cat\", [\"dog\", \"tiger\"])"
   ]
  },
  {
   "cell_type": "code",
   "execution_count": 25,
   "metadata": {},
   "outputs": [
    {
     "data": {
      "text/plain": [
       "0.11826837"
      ]
     },
     "execution_count": 25,
     "metadata": {},
     "output_type": "execute_result"
    }
   ],
   "source": [
    "vectors.similarity(\"cat\", \"television\")"
   ]
  },
  {
   "cell_type": "code",
   "execution_count": 20,
   "metadata": {},
   "outputs": [
    {
     "data": {
      "text/plain": [
       "'dog'"
      ]
     },
     "execution_count": 20,
     "metadata": {},
     "output_type": "execute_result"
    }
   ],
   "source": [
    "vectors.most_similar_to_given(\"cat\", [\"dog\", \"television\", \"laptop\"])"
   ]
  },
  {
   "cell_type": "code",
   "execution_count": 26,
   "metadata": {},
   "outputs": [
    {
     "data": {
      "text/plain": [
       "'cereal'"
      ]
     },
     "execution_count": 26,
     "metadata": {},
     "output_type": "execute_result"
    }
   ],
   "source": [
    "vectors.doesnt_match([\"breakfast\", \"cereal\", \"dinner\", \"lunch\"])"
   ]
  },
  {
   "cell_type": "code",
   "execution_count": 28,
   "metadata": {},
   "outputs": [
    {
     "data": {
      "text/plain": [
       "[('queen', 0.7118193),\n",
       " ('monarch', 0.61896753),\n",
       " ('princess', 0.5902431),\n",
       " ('crown_prince', 0.5499462),\n",
       " ('prince', 0.5377322),\n",
       " ('kings', 0.5236845),\n",
       " ('Queen_Consort', 0.5235946),\n",
       " ('queens', 0.5181134),\n",
       " ('sultan', 0.5098594),\n",
       " ('monarchy', 0.50874126)]"
      ]
     },
     "execution_count": 28,
     "metadata": {},
     "output_type": "execute_result"
    }
   ],
   "source": [
    "vectors.most_similar(positive = [\"woman\", \"king\"], negative = [\"man\"])"
   ]
  },
  {
   "cell_type": "markdown",
   "metadata": {},
   "source": [
    "1. What is the dimensionality of these word embeddings?"
   ]
  },
  {
   "cell_type": "code",
   "execution_count": 8,
   "metadata": {},
   "outputs": [
    {
     "data": {
      "text/plain": [
       "300"
      ]
     },
     "execution_count": 8,
     "metadata": {},
     "output_type": "execute_result"
    }
   ],
   "source": [
    "vectors.dim"
   ]
  },
  {
   "cell_type": "code",
   "execution_count": 9,
   "metadata": {},
   "outputs": [
    {
     "data": {
      "text/plain": [
       "300"
      ]
     },
     "execution_count": 9,
     "metadata": {},
     "output_type": "execute_result"
    }
   ],
   "source": [
    "len(vectors.query('queen'))"
   ]
  },
  {
   "cell_type": "markdown",
   "metadata": {},
   "source": [
    "2. What are the top 5 most similar words to picnic?"
   ]
  },
  {
   "cell_type": "code",
   "execution_count": 10,
   "metadata": {},
   "outputs": [
    {
     "name": "stdout",
     "output_type": "stream",
     "text": [
      "[('picnics', 0.7400875), ('picnic_lunch', 0.721374), ('Picnic', 0.700534), ('potluck_picnic', 0.6683274), ('picnic_supper', 0.65189123)]\n"
     ]
    }
   ],
   "source": [
    "print(vectors.most_similar(\"picnic\", topn=5))"
   ]
  },
  {
   "cell_type": "markdown",
   "metadata": {},
   "source": [
    "3. According to the word embeddings, which of these words is not like the others?['tissue', 'papyrus', 'manila', 'newsprint', 'parchment', 'gazette']"
   ]
  },
  {
   "cell_type": "code",
   "execution_count": 29,
   "metadata": {},
   "outputs": [
    {
     "data": {
      "text/plain": [
       "'tissue'"
      ]
     },
     "execution_count": 29,
     "metadata": {},
     "output_type": "execute_result"
    }
   ],
   "source": [
    "vectors.doesnt_match(['tissue', 'papyrus', 'manila', 'newsprint', 'parchment', 'gazette'])"
   ]
  },
  {
   "cell_type": "markdown",
   "metadata": {},
   "source": [
    "4. Solve the following analogy: leg is to jump as X is to throw."
   ]
  },
  {
   "cell_type": "code",
   "execution_count": 33,
   "metadata": {},
   "outputs": [],
   "source": [
    "result = vectors.most_similar(positive = [\"leg\",\"throw\"], negative = [\"jump\"])"
   ]
  },
  {
   "cell_type": "code",
   "execution_count": 34,
   "metadata": {},
   "outputs": [
    {
     "name": "stdout",
     "output_type": "stream",
     "text": [
      "('forearm', 0.48294652)\n"
     ]
    }
   ],
   "source": [
    "print(result[0])"
   ]
  },
  {
   "cell_type": "code",
   "execution_count": null,
   "metadata": {},
   "outputs": [],
   "source": []
  }
 ],
 "metadata": {
  "kernelspec": {
   "display_name": "Python 3",
   "language": "python",
   "name": "python3"
  },
  "language_info": {
   "codemirror_mode": {
    "name": "ipython",
    "version": 3
   },
   "file_extension": ".py",
   "mimetype": "text/x-python",
   "name": "python",
   "nbconvert_exporter": "python",
   "pygments_lexer": "ipython3",
   "version": "3.7.9"
  }
 },
 "nbformat": 4,
 "nbformat_minor": 4
}
